{
 "cells": [
  {
   "cell_type": "code",
   "execution_count": 1,
   "metadata": {},
   "outputs": [],
   "source": [
    "import logging\n",
    "import sys\n",
    "import nest_asyncio\n",
    "\n",
    "logging.basicConfig(stream=sys.stdout, level=logging.INFO)\n",
    "logging.getLogger().addHandler(logging.StreamHandler(stream=sys.stdout))\n",
    "\n",
    "nest_asyncio.apply()"
   ]
  },
  {
   "cell_type": "code",
   "execution_count": 2,
   "metadata": {},
   "outputs": [
    {
     "name": "stdout",
     "output_type": "stream",
     "text": [
      "INFO:numexpr.utils:NumExpr defaulting to 8 threads.\n",
      "NumExpr defaulting to 8 threads.\n"
     ]
    },
    {
     "name": "stderr",
     "output_type": "stream",
     "text": [
      "/Library/Frameworks/Python.framework/Versions/3.11/lib/python3.11/site-packages/pinecone/index.py:4: TqdmWarning: IProgress not found. Please update jupyter and ipywidgets. See https://ipywidgets.readthedocs.io/en/stable/user_install.html\n",
      "  from tqdm.autonotebook import tqdm\n"
     ]
    }
   ],
   "source": [
    "from llama_index import (\n",
    "    VectorStoreIndex,\n",
    "    ServiceContext,\n",
    "    Response,\n",
    "    \n",
    ")\n",
    "import pinecone\n",
    "import openai\n",
    "import streamlit as st\n",
    "from llama_index.vector_stores import PineconeVectorStore\n",
    "from llama_index.llms import OpenAI\n",
    "from llama_index.evaluation import CorrectnessEvaluator\n",
    "import pandas as pd\n",
    "\n",
    "pd.set_option(\"display.max_colwidth\", 0)"
   ]
  },
  {
   "cell_type": "code",
   "execution_count": 3,
   "metadata": {},
   "outputs": [
    {
     "name": "stderr",
     "output_type": "stream",
     "text": [
      "2023-11-25 13:29:06.772 \n",
      "  \u001b[33m\u001b[1mWarning:\u001b[0m to view this Streamlit app on a browser, run it with the following\n",
      "  command:\n",
      "\n",
      "    streamlit run /Users/federicoiglesias/Library/Python/3.11/lib/python/site-packages/ipykernel_launcher.py [ARGUMENTS]\n"
     ]
    },
    {
     "ename": "AttributeError",
     "evalue": "st.secrets has no attribute \"openai_key\". Did you forget to add it to secrets.toml or the app settings on Streamlit Cloud? More info: https://docs.streamlit.io/streamlit-cloud/get-started/deploy-an-app/connect-to-data-sources/secrets-management",
     "output_type": "error",
     "traceback": [
      "\u001b[0;31m---------------------------------------------------------------------------\u001b[0m",
      "\u001b[0;31mFileNotFoundError\u001b[0m                         Traceback (most recent call last)",
      "File \u001b[0;32m/Library/Frameworks/Python.framework/Versions/3.11/lib/python3.11/site-packages/streamlit/runtime/secrets.py:287\u001b[0m, in \u001b[0;36mSecrets.__getattr__\u001b[0;34m(self, key)\u001b[0m\n\u001b[1;32m    286\u001b[0m \u001b[39mtry\u001b[39;00m:\n\u001b[0;32m--> 287\u001b[0m     value \u001b[39m=\u001b[39m \u001b[39mself\u001b[39;49m\u001b[39m.\u001b[39;49m_parse(\u001b[39mTrue\u001b[39;49;00m)[key]\n\u001b[1;32m    288\u001b[0m     \u001b[39mif\u001b[39;00m \u001b[39mnot\u001b[39;00m \u001b[39misinstance\u001b[39m(value, Mapping):\n",
      "File \u001b[0;32m/Library/Frameworks/Python.framework/Versions/3.11/lib/python3.11/site-packages/streamlit/runtime/secrets.py:214\u001b[0m, in \u001b[0;36mSecrets._parse\u001b[0;34m(self, print_exceptions)\u001b[0m\n\u001b[1;32m    213\u001b[0m         st\u001b[39m.\u001b[39merror(err_msg)\n\u001b[0;32m--> 214\u001b[0m     \u001b[39mraise\u001b[39;00m \u001b[39mFileNotFoundError\u001b[39;00m(err_msg)\n\u001b[1;32m    216\u001b[0m \u001b[39mif\u001b[39;00m \u001b[39mlen\u001b[39m([p \u001b[39mfor\u001b[39;00m p \u001b[39min\u001b[39;00m \u001b[39mself\u001b[39m\u001b[39m.\u001b[39m_file_paths \u001b[39mif\u001b[39;00m os\u001b[39m.\u001b[39mpath\u001b[39m.\u001b[39mexists(p)]) \u001b[39m>\u001b[39m \u001b[39m1\u001b[39m:\n",
      "\u001b[0;31mFileNotFoundError\u001b[0m: No secrets files found. Valid paths for a secrets.toml file are: /Users/federicoiglesias/.streamlit/secrets.toml, /Users/federicoiglesias/Desktop/tailwind-gpt/evals/.streamlit/secrets.toml",
      "\nDuring handling of the above exception, another exception occurred:\n",
      "\u001b[0;31mAttributeError\u001b[0m                            Traceback (most recent call last)",
      "\u001b[1;32m/Users/federicoiglesias/Desktop/tailwind-gpt/evals/correctness_eval.ipynb Cell 3\u001b[0m line \u001b[0;36m1\n\u001b[0;32m----> <a href='vscode-notebook-cell:/Users/federicoiglesias/Desktop/tailwind-gpt/evals/correctness_eval.ipynb#W2sZmlsZQ%3D%3D?line=0'>1</a>\u001b[0m openai\u001b[39m.\u001b[39mapi_key \u001b[39m=\u001b[39m st\u001b[39m.\u001b[39;49msecrets\u001b[39m.\u001b[39;49mopenai_key\n\u001b[1;32m      <a href='vscode-notebook-cell:/Users/federicoiglesias/Desktop/tailwind-gpt/evals/correctness_eval.ipynb#W2sZmlsZQ%3D%3D?line=1'>2</a>\u001b[0m api_key \u001b[39m=\u001b[39m \u001b[39m\"\u001b[39m\u001b[39m2bcecfc8-35f9-44dc-9459-ab0cc2781b29\u001b[39m\u001b[39m\"\u001b[39m\n\u001b[1;32m      <a href='vscode-notebook-cell:/Users/federicoiglesias/Desktop/tailwind-gpt/evals/correctness_eval.ipynb#W2sZmlsZQ%3D%3D?line=2'>3</a>\u001b[0m pinecone\u001b[39m.\u001b[39minit(api_key\u001b[39m=\u001b[39mapi_key, environment\u001b[39m=\u001b[39m\u001b[39m\"\u001b[39m\u001b[39mgcp-starter\u001b[39m\u001b[39m\"\u001b[39m)\n",
      "File \u001b[0;32m/Library/Frameworks/Python.framework/Versions/3.11/lib/python3.11/site-packages/streamlit/runtime/secrets.py:296\u001b[0m, in \u001b[0;36mSecrets.__getattr__\u001b[0;34m(self, key)\u001b[0m\n\u001b[1;32m    292\u001b[0m \u001b[39m# We add FileNotFoundError since __getattr__ is expected to only raise\u001b[39;00m\n\u001b[1;32m    293\u001b[0m \u001b[39m# AttributeError. Without handling FileNotFoundError, unittests.mocks\u001b[39;00m\n\u001b[1;32m    294\u001b[0m \u001b[39m# fails during mock creation on Python3.9\u001b[39;00m\n\u001b[1;32m    295\u001b[0m \u001b[39mexcept\u001b[39;00m (\u001b[39mKeyError\u001b[39;00m, \u001b[39mFileNotFoundError\u001b[39;00m):\n\u001b[0;32m--> 296\u001b[0m     \u001b[39mraise\u001b[39;00m \u001b[39mAttributeError\u001b[39;00m(_missing_attr_error_message(key))\n",
      "\u001b[0;31mAttributeError\u001b[0m: st.secrets has no attribute \"openai_key\". Did you forget to add it to secrets.toml or the app settings on Streamlit Cloud? More info: https://docs.streamlit.io/streamlit-cloud/get-started/deploy-an-app/connect-to-data-sources/secrets-management"
     ]
    }
   ],
   "source": [
    "openai.api_key = st.secrets.openai_key\n",
    "api_key = \"2bcecfc8-35f9-44dc-9459-ab0cc2781b29\"\n",
    "pinecone.init(api_key=api_key, environment=\"gcp-starter\")\n",
    "pinecone_index = pinecone.Index(\"tailwind-ada\")"
   ]
  },
  {
   "cell_type": "code",
   "execution_count": null,
   "metadata": {},
   "outputs": [],
   "source": [
    "pinecone_index = pinecone.Index(\"tailwind-ada\")\n",
    "vector_store = PineconeVectorStore(pinecone_index=pinecone_index)\n",
    "service_context = ServiceContext.from_defaults(llm=OpenAI(model=\"gpt-3.5-turbo\", temperature=0.5, system_prompt=\"You are an expert on TailwindCSS and your job is to answer technical questions. Assume that all questions are related to TailwindCSS. Keep your answers technical and based on facts – do not hallucinate features.\"))\n",
    "index = VectorStoreIndex.from_vector_store(vector_store=vector_store, service_context=service_context)"
   ]
  },
  {
   "cell_type": "code",
   "execution_count": null,
   "metadata": {},
   "outputs": [],
   "source": [
    "evaluator = CorrectnessEvaluator(service_context=service_context)"
   ]
  },
  {
   "cell_type": "code",
   "execution_count": null,
   "metadata": {},
   "outputs": [],
   "source": [
    "chat_engine = index.as_chat_engine(chat_mode=\"condense_question\", verbose=True)\n",
    "query = \"What is border-radius? And how do I use it in TailwindCSS?\"\n",
    "response = chat_engine.chat(query)\n",
    "reference = \"It is a property that allows you to round the corners of an element. You can use it in TailwindCSS by adding the rounded class to an element. For example, rounded-lg will round the corners of an element by 0.5rem.\""
   ]
  },
  {
   "cell_type": "code",
   "execution_count": null,
   "metadata": {},
   "outputs": [
    {
     "data": {
      "text/html": [
       "<style type=\"text/css\">\n",
       "#T_e31aa_row0_col0, #T_e31aa_row0_col1 {\n",
       "  inline-size: 600px;\n",
       "  overflow-wrap: break-word;\n",
       "}\n",
       "</style>\n",
       "<table id=\"T_e31aa\">\n",
       "  <thead>\n",
       "    <tr>\n",
       "      <th class=\"blank level0\" >&nbsp;</th>\n",
       "      <th id=\"T_e31aa_level0_col0\" class=\"col_heading level0 col0\" >Response</th>\n",
       "      <th id=\"T_e31aa_level0_col1\" class=\"col_heading level0 col1\" >Source</th>\n",
       "      <th id=\"T_e31aa_level0_col2\" class=\"col_heading level0 col2\" >Evaluation Result</th>\n",
       "    </tr>\n",
       "  </thead>\n",
       "  <tbody>\n",
       "    <tr>\n",
       "      <th id=\"T_e31aa_level0_row0\" class=\"row_heading level0 row0\" >0</th>\n",
       "      <td id=\"T_e31aa_row0_col0\" class=\"data row0 col0\" >Border-radius is a CSS property that is used to round the corners of an element. In TailwindCSS, you can use the `border-radius` utility classes to easily apply different border radius sizes to your elements.\n",
       "\n",
       "By default, TailwindCSS provides five border radius size utilities: `rounded-none`, `rounded-sm`, `rounded`, `rounded-md`, `rounded-lg`, and `rounded-full`. These classes can be applied to any element to round its corners with the corresponding radius size.\n",
       "\n",
       "If you want to customize the default border radius sizes in TailwindCSS, you can edit the `theme.borderRadius` section of your Tailwind config file. You can change, add, or remove the border radius sizes according to your needs.\n",
       "\n",
       "For example, if you want to change the default border radius size to `4px` and add a new size called `large` with a radius of `12px`, you can modify the `theme.borderRadius` section in your Tailwind config file as follows:\n",
       "\n",
       "```diff-js\n",
       "module.exports = {\n",
       "  theme: {\n",
       "    borderRadius: {\n",
       "      'none': '0',\n",
       "      'DEFAULT': '4px',\n",
       "      'large': '12px',\n",
       "    }\n",
       "  }\n",
       "}\n",
       "```\n",
       "\n",
       "After customizing the border radius sizes, you can use the updated utility classes in your HTML markup to apply the desired border radius to your elements.\n",
       "\n",
       "Additionally, if you need to apply arbitrary border radius values that are not predefined in TailwindCSS, you can use the `rounded-[value]` class. Replace `[value]` with the desired pixel value or any other valid CSS unit.\n",
       "\n",
       "For example, if you want to apply a border radius of `12px` to an element, you can use the `rounded-[12px]` class.\n",
       "\n",
       "Remember to include the TailwindCSS stylesheet in your project to make use of the border radius utility classes.</td>\n",
       "      <td id=\"T_e31aa_row0_col1\" class=\"data row0 col1\" >---\n",
       "\n",
       "## <Heading ignore>Applying conditionally</Heading>\n",
       "\n",
       "### <Heading ignore>Hover, focus, and other states</Heading>\n",
       "\n",
       "<HoverFocusAndOtherStates defaultClass=\"rounded\" featuredClass=\"rounded-lg\" />\n",
       "\n",
       "### <Heading ignore>Breakpoints and media queries</Heading>\n",
       "\n",
       "<BreakpointsAndMediaQueries defaultClass=\"rounded\" featuredClass=\"rounded-lg\" />\n",
       "\n",
       "---\n",
       "\n",
       "## Using custom values\n",
       "\n",
       "### Customizing your theme\n",
       "\n",
       "By default, Tailwind provides five border radius size utilities. You can change, add, or remove these by editing the `theme.borderRadius` section of your Tailwind config.\n",
       "\n",
       "```diff-js {{ filename: 'tailwind.config.js' }}\n",
       "  module.exports = {\n",
       "    theme: {\n",
       "      borderRadius: {\n",
       "        'none': '0',\n",
       "-       'sm': '0.125rem',\n",
       "-       DEFAULT: '0.25rem',\n",
       "+       DEFAULT: '4px',\n",
       "-       'md': '0.375rem',\n",
       "-       'lg': '0.5rem',\n",
       "-       'full': '9999px',\n",
       "+       'large': '12px',\n",
       "      }\n",
       "    }\n",
       "  }\n",
       "```\n",
       "\n",
       "Learn more about customizing the default theme in the [theme customization](/docs/theme#customizing-t...</td>\n",
       "      <td id=\"T_e31aa_row0_col2\" class=\"data row0 col2\" >Pass</td>\n",
       "    </tr>\n",
       "  </tbody>\n",
       "</table>\n"
      ],
      "text/plain": [
       "<pandas.io.formats.style.Styler at 0x17db40290>"
      ]
     },
     "metadata": {},
     "output_type": "display_data"
    }
   ],
   "source": [
    "result = evaluator.evaluate(\n",
    "    query=query,\n",
    "    response=response.response,\n",
    "    reference=reference,\n",
    ")\n",
    "\n",
    "print(\"response: \", response.response)\n",
    "print(\"result.score: \", result.score)\n",
    "print(\"result.feedback: \", result.feedback)"
   ]
  }
 ],
 "metadata": {
  "kernelspec": {
   "display_name": "Python 3",
   "language": "python",
   "name": "python3"
  },
  "language_info": {
   "codemirror_mode": {
    "name": "ipython",
    "version": 3
   },
   "file_extension": ".py",
   "mimetype": "text/x-python",
   "name": "python",
   "nbconvert_exporter": "python",
   "pygments_lexer": "ipython3",
   "version": "3.11.3"
  },
  "orig_nbformat": 4
 },
 "nbformat": 4,
 "nbformat_minor": 2
}
