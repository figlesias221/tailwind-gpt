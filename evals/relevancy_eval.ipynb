{
 "cells": [
  {
   "cell_type": "code",
   "execution_count": 1,
   "metadata": {},
   "outputs": [],
   "source": [
    "import logging\n",
    "import sys\n",
    "import nest_asyncio\n",
    "\n",
    "logging.basicConfig(stream=sys.stdout, level=logging.INFO)\n",
    "logging.getLogger().addHandler(logging.StreamHandler(stream=sys.stdout))\n",
    "\n",
    "nest_asyncio.apply()"
   ]
  },
  {
   "cell_type": "code",
   "execution_count": 2,
   "metadata": {},
   "outputs": [
    {
     "name": "stdout",
     "output_type": "stream",
     "text": [
      "INFO:numexpr.utils:NumExpr defaulting to 8 threads.\n",
      "NumExpr defaulting to 8 threads.\n"
     ]
    },
    {
     "name": "stderr",
     "output_type": "stream",
     "text": [
      "/Library/Frameworks/Python.framework/Versions/3.11/lib/python3.11/site-packages/pinecone/index.py:4: TqdmWarning: IProgress not found. Please update jupyter and ipywidgets. See https://ipywidgets.readthedocs.io/en/stable/user_install.html\n",
      "  from tqdm.autonotebook import tqdm\n"
     ]
    }
   ],
   "source": [
    "from llama_index import (\n",
    "    VectorStoreIndex,\n",
    "    ServiceContext,\n",
    "    Response,\n",
    "    \n",
    ")\n",
    "import pinecone\n",
    "import openai\n",
    "import streamlit as st\n",
    "from llama_index.vector_stores import PineconeVectorStore\n",
    "from llama_index.llms import OpenAI\n",
    "from llama_index.evaluation import RelevancyEvaluator\n",
    "import pandas as pd\n",
    "\n",
    "pd.set_option(\"display.max_colwidth\", 0)"
   ]
  },
  {
   "cell_type": "code",
   "execution_count": 3,
   "metadata": {},
   "outputs": [],
   "source": [
    "openai.api_key = st.secrets.openai_key\n",
    "api_key = \"2bcecfc8-35f9-44dc-9459-ab0cc2781b29\"\n",
    "pinecone.init(api_key=api_key, environment=\"gcp-starter\")\n",
    "pinecone_index = pinecone.Index(\"tailwind-ada\")"
   ]
  },
  {
   "cell_type": "code",
   "execution_count": 4,
   "metadata": {},
   "outputs": [],
   "source": [
    "pinecone_index = pinecone.Index(\"tailwind-ada\")\n",
    "vector_store = PineconeVectorStore(pinecone_index=pinecone_index)\n",
    "service_context = ServiceContext.from_defaults(llm=OpenAI(model=\"gpt-3.5-turbo\", temperature=0.5, system_prompt=\"You are an expert on TailwindCSS and your job is to answer technical questions. Assume that all questions are related to TailwindCSS. Keep your answers technical and based on facts – do not hallucinate features.\"))\n",
    "index = VectorStoreIndex.from_vector_store(vector_store=vector_store, service_context=service_context)"
   ]
  },
  {
   "cell_type": "code",
   "execution_count": 5,
   "metadata": {},
   "outputs": [],
   "source": [
    "evaluator = RelevancyEvaluator(service_context=service_context)"
   ]
  },
  {
   "cell_type": "code",
   "execution_count": 6,
   "metadata": {},
   "outputs": [],
   "source": [
    "def display_eval_df(query: str, response: Response, eval_result: str) -> None:\n",
    "    eval_df = pd.DataFrame(\n",
    "        {\n",
    "            \"Query\": query,\n",
    "            \"Response\": str(response),\n",
    "            \"Source\": response.source_nodes[0].node.text[:1000] + \"...\",\n",
    "            \"Evaluation Result\": \"Pass\" if eval_result.passing else \"Fail\",\n",
    "        },\n",
    "        index=[0],\n",
    "    )\n",
    "    eval_df = eval_df.style.set_properties(\n",
    "        **{\n",
    "            \"inline-size\": \"600px\",\n",
    "            \"overflow-wrap\": \"break-word\",\n",
    "        },\n",
    "        subset=[\"Response\", \"Source\"]\n",
    "    )\n",
    "    display(eval_df)"
   ]
  },
  {
   "cell_type": "code",
   "execution_count": 7,
   "metadata": {},
   "outputs": [],
   "source": [
    "query_str = \"What is border-radius? And how do I use it in TailwindCSS?\"\n",
    "query_engine = index.as_query_engine()\n",
    "response_vector = query_engine.query(query_str)\n",
    "eval_result_1 = evaluator.evaluate_response(\n",
    "    query=query_str, response=response_vector\n",
    ")\n"
   ]
  },
  {
   "cell_type": "code",
   "execution_count": 8,
   "metadata": {},
   "outputs": [
    {
     "data": {
      "text/html": [
       "<style type=\"text/css\">\n",
       "#T_db647_row0_col1, #T_db647_row0_col2 {\n",
       "  inline-size: 600px;\n",
       "  overflow-wrap: break-word;\n",
       "}\n",
       "</style>\n",
       "<table id=\"T_db647\">\n",
       "  <thead>\n",
       "    <tr>\n",
       "      <th class=\"blank level0\" >&nbsp;</th>\n",
       "      <th id=\"T_db647_level0_col0\" class=\"col_heading level0 col0\" >Query</th>\n",
       "      <th id=\"T_db647_level0_col1\" class=\"col_heading level0 col1\" >Response</th>\n",
       "      <th id=\"T_db647_level0_col2\" class=\"col_heading level0 col2\" >Source</th>\n",
       "      <th id=\"T_db647_level0_col3\" class=\"col_heading level0 col3\" >Evaluation Result</th>\n",
       "    </tr>\n",
       "  </thead>\n",
       "  <tbody>\n",
       "    <tr>\n",
       "      <th id=\"T_db647_level0_row0\" class=\"row_heading level0 row0\" >0</th>\n",
       "      <td id=\"T_db647_row0_col0\" class=\"data row0 col0\" >What is border-radius? And how do I use it in TailwindCSS?</td>\n",
       "      <td id=\"T_db647_row0_col1\" class=\"data row0 col1\" >Border-radius is a CSS property that allows you to control the roundness of the corners of an element. In TailwindCSS, you can use the border-radius utility classes to apply different roundness values to elements.\n",
       "\n",
       "To use the border-radius utility classes in TailwindCSS, you can apply them directly to the desired element. For example, you can add the class \"rounded\" to apply a default border radius, or use the class \"rounded-lg\" to apply a larger border radius.\n",
       "\n",
       "If you want to customize the default border radius values in TailwindCSS, you can edit the `theme.borderRadius` section of your Tailwind config file. By default, Tailwind provides five border radius size utilities, but you can change, add, or remove these as per your requirements.\n",
       "\n",
       "For example, in the `theme.borderRadius` section of your Tailwind config file, you can specify the desired values for different border radius sizes. You can use keywords like \"none\", \"sm\", \"md\", \"lg\", and \"full\" to specify different sizes, and assign corresponding pixel or rem values to them.\n",
       "\n",
       "Once you have customized the border radius values in your Tailwind config file, you can use the updated values by applying the corresponding utility classes to your elements.\n",
       "\n",
       "Remember that you can also use arbitrary values for border radius by using the `rounded-[value]` class. For example, you can use `rounded-[12px]` to apply a specific border radius of 12 pixels to an element.</td>\n",
       "      <td id=\"T_db647_row0_col2\" class=\"data row0 col2\" >---\n",
       "\n",
       "## <Heading ignore>Applying conditionally</Heading>\n",
       "\n",
       "### <Heading ignore>Hover, focus, and other states</Heading>\n",
       "\n",
       "<HoverFocusAndOtherStates defaultClass=\"rounded\" featuredClass=\"rounded-lg\" />\n",
       "\n",
       "### <Heading ignore>Breakpoints and media queries</Heading>\n",
       "\n",
       "<BreakpointsAndMediaQueries defaultClass=\"rounded\" featuredClass=\"rounded-lg\" />\n",
       "\n",
       "---\n",
       "\n",
       "## Using custom values\n",
       "\n",
       "### Customizing your theme\n",
       "\n",
       "By default, Tailwind provides five border radius size utilities. You can change, add, or remove these by editing the `theme.borderRadius` section of your Tailwind config.\n",
       "\n",
       "```diff-js {{ filename: 'tailwind.config.js' }}\n",
       "  module.exports = {\n",
       "    theme: {\n",
       "      borderRadius: {\n",
       "        'none': '0',\n",
       "-       'sm': '0.125rem',\n",
       "-       DEFAULT: '0.25rem',\n",
       "+       DEFAULT: '4px',\n",
       "-       'md': '0.375rem',\n",
       "-       'lg': '0.5rem',\n",
       "-       'full': '9999px',\n",
       "+       'large': '12px',\n",
       "      }\n",
       "    }\n",
       "  }\n",
       "```\n",
       "\n",
       "Learn more about customizing the default theme in the [theme customization](/docs/theme#customizing-t...</td>\n",
       "      <td id=\"T_db647_row0_col3\" class=\"data row0 col3\" >Pass</td>\n",
       "    </tr>\n",
       "  </tbody>\n",
       "</table>\n"
      ],
      "text/plain": [
       "<pandas.io.formats.style.Styler at 0x175582e90>"
      ]
     },
     "metadata": {},
     "output_type": "display_data"
    }
   ],
   "source": [
    "display_eval_df(query_str, response_vector, eval_result_1)"
   ]
  }
 ],
 "metadata": {
  "kernelspec": {
   "display_name": "Python 3",
   "language": "python",
   "name": "python3"
  },
  "language_info": {
   "codemirror_mode": {
    "name": "ipython",
    "version": 3
   },
   "file_extension": ".py",
   "mimetype": "text/x-python",
   "name": "python",
   "nbconvert_exporter": "python",
   "pygments_lexer": "ipython3",
   "version": "3.11.3"
  },
  "orig_nbformat": 4
 },
 "nbformat": 4,
 "nbformat_minor": 2
}
