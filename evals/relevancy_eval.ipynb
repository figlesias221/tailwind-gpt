{
 "cells": [
  {
   "cell_type": "code",
   "execution_count": 41,
   "metadata": {},
   "outputs": [],
   "source": [
    "import logging\n",
    "import sys\n",
    "import nest_asyncio\n",
    "\n",
    "logging.basicConfig(stream=sys.stdout, level=logging.INFO)\n",
    "logging.getLogger().addHandler(logging.StreamHandler(stream=sys.stdout))\n",
    "\n",
    "nest_asyncio.apply()"
   ]
  },
  {
   "cell_type": "code",
   "execution_count": 42,
   "metadata": {},
   "outputs": [],
   "source": [
    "from llama_index import (\n",
    "    VectorStoreIndex,\n",
    "    ServiceContext,\n",
    "    Response,\n",
    "    \n",
    ")\n",
    "import pinecone\n",
    "import openai\n",
    "import streamlit as st\n",
    "from llama_index.vector_stores import PineconeVectorStore\n",
    "from llama_index.llms import OpenAI\n",
    "from llama_index.evaluation import RelevancyEvaluator\n",
    "import pandas as pd\n",
    "\n",
    "pd.set_option(\"display.max_colwidth\", 0)"
   ]
  },
  {
   "cell_type": "code",
   "execution_count": 43,
   "metadata": {},
   "outputs": [],
   "source": [
    "openai.api_key = st.secrets.openai_key\n",
    "api_key = \"2bcecfc8-35f9-44dc-9459-ab0cc2781b29\"\n",
    "pinecone.init(api_key=api_key, environment=\"gcp-starter\")"
   ]
  },
  {
   "cell_type": "code",
   "execution_count": 44,
   "metadata": {},
   "outputs": [],
   "source": [
    "pinecone_index = pinecone.Index(\"tailwind-hugging\")\n",
    "vector_store = PineconeVectorStore(pinecone_index=pinecone_index)\n",
    "service_context = ServiceContext.from_defaults(llm=OpenAI(model=\"gpt-3.5-turbo\", temperature=0.5, system_prompt=\"You are an expert on TailwindCSS and your job is to answer technical questions. Assume that all questions are related to TailwindCSS. Keep your answers technical and based on facts – do not hallucinate features.\"))\n",
    "index = VectorStoreIndex.from_vector_store(vector_store=vector_store, service_context=service_context)"
   ]
  },
  {
   "cell_type": "code",
   "execution_count": 45,
   "metadata": {},
   "outputs": [],
   "source": [
    "evaluator = RelevancyEvaluator(service_context=service_context)"
   ]
  },
  {
   "cell_type": "code",
   "execution_count": 46,
   "metadata": {},
   "outputs": [],
   "source": [
    "def display_eval_df(query: str, response: Response, eval_result: str) -> None:\n",
    "    eval_df = pd.DataFrame(\n",
    "        {\n",
    "            \"Query\": query,\n",
    "            \"Response\": str(response),\n",
    "            \"Source\": response.source_nodes[0].node.text[:1000] + \"...\",\n",
    "            \"Evaluation Result\": \"Pass\" if eval_result.passing else \"Fail\",\n",
    "        },\n",
    "        index=[0],\n",
    "    )\n",
    "    eval_df = eval_df.style.set_properties(\n",
    "        **{\n",
    "            \"inline-size\": \"600px\",\n",
    "            \"overflow-wrap\": \"break-word\",\n",
    "        },\n",
    "        subset=[\"Response\", \"Source\"]\n",
    "    )\n",
    "    display(eval_df)"
   ]
  },
  {
   "cell_type": "code",
   "execution_count": 47,
   "metadata": {},
   "outputs": [],
   "source": [
    "query_str = \"How can I make an infinite scroll in TailwindCSS?\"\n",
    "query_engine = index.as_query_engine()\n",
    "response_vector = query_engine.query(query_str)\n",
    "eval_result_1 = evaluator.evaluate_response(\n",
    "    query=query_str, response=response_vector\n",
    ")\n"
   ]
  },
  {
   "cell_type": "code",
   "execution_count": 48,
   "metadata": {},
   "outputs": [
    {
     "data": {
      "text/html": [
       "<style type=\"text/css\">\n",
       "#T_4f8fe_row0_col1, #T_4f8fe_row0_col2 {\n",
       "  inline-size: 600px;\n",
       "  overflow-wrap: break-word;\n",
       "}\n",
       "</style>\n",
       "<table id=\"T_4f8fe\">\n",
       "  <thead>\n",
       "    <tr>\n",
       "      <th class=\"blank level0\" >&nbsp;</th>\n",
       "      <th id=\"T_4f8fe_level0_col0\" class=\"col_heading level0 col0\" >Query</th>\n",
       "      <th id=\"T_4f8fe_level0_col1\" class=\"col_heading level0 col1\" >Response</th>\n",
       "      <th id=\"T_4f8fe_level0_col2\" class=\"col_heading level0 col2\" >Source</th>\n",
       "      <th id=\"T_4f8fe_level0_col3\" class=\"col_heading level0 col3\" >Evaluation Result</th>\n",
       "    </tr>\n",
       "  </thead>\n",
       "  <tbody>\n",
       "    <tr>\n",
       "      <th id=\"T_4f8fe_level0_row0\" class=\"row_heading level0 row0\" >0</th>\n",
       "      <td id=\"T_4f8fe_row0_col0\" class=\"data row0 col0\" >How can I make an infinite scroll in TailwindCSS?</td>\n",
       "      <td id=\"T_4f8fe_row0_col1\" class=\"data row0 col1\" >To create an infinite scroll in TailwindCSS, you can use the `overflow-y-auto` class on the container element. This will allow vertical scrolling if needed. Additionally, you can use the `h-72` class to set the height of the container element.</td>\n",
       "      <td id=\"T_4f8fe_row0_col2\" class=\"data row0 col2\" >unsplash.com/photo-1605405748313-a416a1b84491?ixlib=rb-1.2.1&ixid=MnwxMjA3fDB8MHxwaG90by1wYWdlfHx8fGVufDB8fHx8&auto=format&fit=facearea&facepad=4&w=256&h=256&q=80\" />\n",
       "        <strong class=\"text-slate-900 text-xs font-medium dark:text-slate-200\">Sarah</strong>\n",
       "      </div>\n",
       "    </div>\n",
       "  </div>\n",
       "</div>\n",
       "```\n",
       "\n",
       "```html\n",
       "<div class=\"**overflow-x-auto** .\"></div>\n",
       "```\n",
       "\n",
       "### Scrolling vertically if needed\n",
       "\n",
       "Use `overflow-y-auto` to allow vertical scrolling if needed.\n",
       "\n",
       "```html {{ example: true }}\n",
       "<div class=\"overflow-y-auto h-72 relative max-w-sm mx-auto bg-white dark:bg-slate-800 dark:highlight-white/5 shadow-lg ring-1 ring-black/5 rounded-xl flex flex-col divide-y dark:divide-slate-200/5\">\n",
       "  <div class=\"flex items-center gap-4 p-4\">\n",
       "    <img class=\"w-12 h-12 rounded-full\" src=\"https://images.unsplash.com/photo-1501196354995-cbb51c65aaea?ixlib=rb-1.2.1&ixid=MnwxMjA3fDB8MHxwaG90by1wYWdlfHx8fGVufDB8fHx8&auto=format&fit=facearea&facepad=4&w=256&h=256&q=80\" />\n",
       "    <div class=\"flex flex-col\">\n",
       "      <stro...</td>\n",
       "      <td id=\"T_4f8fe_row0_col3\" class=\"data row0 col3\" >Fail</td>\n",
       "    </tr>\n",
       "  </tbody>\n",
       "</table>\n"
      ],
      "text/plain": [
       "<pandas.io.formats.style.Styler at 0x282d12650>"
      ]
     },
     "metadata": {},
     "output_type": "display_data"
    }
   ],
   "source": [
    "display_eval_df(query_str, response_vector, eval_result_1)"
   ]
  }
 ],
 "metadata": {
  "kernelspec": {
   "display_name": "Python 3",
   "language": "python",
   "name": "python3"
  },
  "language_info": {
   "codemirror_mode": {
    "name": "ipython",
    "version": 3
   },
   "file_extension": ".py",
   "mimetype": "text/x-python",
   "name": "python",
   "nbconvert_exporter": "python",
   "pygments_lexer": "ipython3",
   "version": "3.11.3"
  },
  "orig_nbformat": 4
 },
 "nbformat": 4,
 "nbformat_minor": 2
}
