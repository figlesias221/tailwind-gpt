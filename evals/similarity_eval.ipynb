{
 "cells": [
  {
   "cell_type": "code",
   "execution_count": 38,
   "metadata": {},
   "outputs": [],
   "source": [
    "import logging\n",
    "import sys\n",
    "import nest_asyncio\n",
    "\n",
    "logging.basicConfig(stream=sys.stdout, level=logging.INFO)\n",
    "logging.getLogger().addHandler(logging.StreamHandler(stream=sys.stdout))\n",
    "\n",
    "nest_asyncio.apply()"
   ]
  },
  {
   "cell_type": "code",
   "execution_count": 39,
   "metadata": {},
   "outputs": [],
   "source": [
    "from llama_index import (\n",
    "    VectorStoreIndex,\n",
    "    ServiceContext,\n",
    "    Response,\n",
    "    \n",
    ")\n",
    "import pinecone\n",
    "import openai\n",
    "import streamlit as st\n",
    "from llama_index.vector_stores import PineconeVectorStore\n",
    "from llama_index.llms import OpenAI\n",
    "from llama_index.evaluation import SemanticSimilarityEvaluator\n",
    "\n",
    "pd.set_option(\"display.max_colwidth\", 0)"
   ]
  },
  {
   "cell_type": "code",
   "execution_count": 40,
   "metadata": {},
   "outputs": [],
   "source": [
    "openai.api_key = st.secrets.openai_key\n",
    "api_key = \"2bcecfc8-35f9-44dc-9459-ab0cc2781b29\"\n",
    "pinecone.init(api_key=api_key, environment=\"gcp-starter\")\n",
    "pinecone_index = pinecone.Index(\"tailwind-ada\")"
   ]
  },
  {
   "cell_type": "code",
   "execution_count": 41,
   "metadata": {},
   "outputs": [],
   "source": [
    "pinecone_index = pinecone.Index(\"tailwind-ada\")\n",
    "vector_store = PineconeVectorStore(pinecone_index=pinecone_index)\n",
    "service_context = ServiceContext.from_defaults(llm=OpenAI(model=\"gpt-3.5-turbo\", temperature=0.5, system_prompt=\"You are an expert on TailwindCSS and your job is to answer technical questions. Assume that all questions are related to TailwindCSS. Keep your answers technical and based on facts – do not hallucinate features.\"))\n",
    "index = VectorStoreIndex.from_vector_store(vector_store=vector_store, service_context=service_context)"
   ]
  },
  {
   "cell_type": "code",
   "execution_count": 42,
   "metadata": {},
   "outputs": [],
   "source": [
    "evaluator = SemanticSimilarityEvaluator()"
   ]
  },
  {
   "cell_type": "code",
   "execution_count": 44,
   "metadata": {},
   "outputs": [],
   "source": [
    "chat_engine = index.as_chat_engine(chat_mode=\"condense_question\", verbose=True)\n",
    "query = \"What is border-radius? And how do I use it in TailwindCSS?\"\n",
    "response = chat_engine.chat(query)\n",
    "reference = \"It is a property that allows you to round the corners of an element. You can use it in TailwindCSS by adding the rounded class to an element. For example, rounded-lg will round the corners of an element by 0.5rem.\""
   ]
  },
  {
   "cell_type": "code",
   "execution_count": 45,
   "metadata": {},
   "outputs": [
    {
     "data": {
      "text/html": [
       "<style type=\"text/css\">\n",
       "#T_63304_row0_col1, #T_63304_row0_col2 {\n",
       "  inline-size: 600px;\n",
       "  overflow-wrap: break-word;\n",
       "}\n",
       "</style>\n",
       "<table id=\"T_63304\">\n",
       "  <thead>\n",
       "    <tr>\n",
       "      <th class=\"blank level0\" >&nbsp;</th>\n",
       "      <th id=\"T_63304_level0_col0\" class=\"col_heading level0 col0\" >Query</th>\n",
       "      <th id=\"T_63304_level0_col1\" class=\"col_heading level0 col1\" >Response</th>\n",
       "      <th id=\"T_63304_level0_col2\" class=\"col_heading level0 col2\" >Source</th>\n",
       "      <th id=\"T_63304_level0_col3\" class=\"col_heading level0 col3\" >Evaluation Result</th>\n",
       "    </tr>\n",
       "  </thead>\n",
       "  <tbody>\n",
       "    <tr>\n",
       "      <th id=\"T_63304_level0_row0\" class=\"row_heading level0 row0\" >0</th>\n",
       "      <td id=\"T_63304_row0_col0\" class=\"data row0 col0\" >What is border-radius? And how do I use it in TailwindCSS?</td>\n",
       "      <td id=\"T_63304_row0_col1\" class=\"data row0 col1\" >Border-radius is a CSS property that allows you to round the corners of an element. In Tailwind CSS, you can use the border-radius utility classes to easily apply different border radius values to your elements.\n",
       "\n",
       "To use the border-radius utility classes in Tailwind CSS, you can add the `rounded` class to an element to apply a default border radius. Tailwind CSS also provides additional utility classes for different border radius sizes, such as `rounded-sm`, `rounded-md`, `rounded-lg`, and `rounded-full`.\n",
       "\n",
       "If you want to customize the default border radius values in Tailwind CSS, you can edit the `theme.borderRadius` section of your Tailwind config file. By default, Tailwind provides five border radius size utilities, but you can change, add, or remove these by modifying the values in the config file.\n",
       "\n",
       "For example, if you want to change the default border radius value to `4px`, you can add the following code to your Tailwind config file:\n",
       "\n",
       "```javascript\n",
       "module.exports = {\n",
       "  theme: {\n",
       "    borderRadius: {\n",
       "      DEFAULT: '4px',\n",
       "    },\n",
       "  },\n",
       "};\n",
       "```\n",
       "\n",
       "This will update the default border radius value used by the `rounded` class.\n",
       "\n",
       "Additionally, you can also use arbitrary values for the border radius by using the `rounded-[value]` class. For example, if you want to apply a border radius of `12px`, you can use the `rounded-[12px]` class.\n",
       "\n",
       "Remember to refer to the Tailwind CSS documentation for more information on customizing the default theme and using the border-radius utility classes.</td>\n",
       "      <td id=\"T_63304_row0_col2\" class=\"data row0 col2\" >---\n",
       "\n",
       "## <Heading ignore>Applying conditionally</Heading>\n",
       "\n",
       "### <Heading ignore>Hover, focus, and other states</Heading>\n",
       "\n",
       "<HoverFocusAndOtherStates defaultClass=\"rounded\" featuredClass=\"rounded-lg\" />\n",
       "\n",
       "### <Heading ignore>Breakpoints and media queries</Heading>\n",
       "\n",
       "<BreakpointsAndMediaQueries defaultClass=\"rounded\" featuredClass=\"rounded-lg\" />\n",
       "\n",
       "---\n",
       "\n",
       "## Using custom values\n",
       "\n",
       "### Customizing your theme\n",
       "\n",
       "By default, Tailwind provides five border radius size utilities. You can change, add, or remove these by editing the `theme.borderRadius` section of your Tailwind config.\n",
       "\n",
       "```diff-js {{ filename: 'tailwind.config.js' }}\n",
       "  module.exports = {\n",
       "    theme: {\n",
       "      borderRadius: {\n",
       "        'none': '0',\n",
       "-       'sm': '0.125rem',\n",
       "-       DEFAULT: '0.25rem',\n",
       "+       DEFAULT: '4px',\n",
       "-       'md': '0.375rem',\n",
       "-       'lg': '0.5rem',\n",
       "-       'full': '9999px',\n",
       "+       'large': '12px',\n",
       "      }\n",
       "    }\n",
       "  }\n",
       "```\n",
       "\n",
       "Learn more about customizing the default theme in the [theme customization](/docs/theme#customizing-t...</td>\n",
       "      <td id=\"T_63304_row0_col3\" class=\"data row0 col3\" >Pass</td>\n",
       "    </tr>\n",
       "  </tbody>\n",
       "</table>\n"
      ],
      "text/plain": [
       "<pandas.io.formats.style.Styler at 0x17c0ec650>"
      ]
     },
     "metadata": {},
     "output_type": "display_data"
    }
   ],
   "source": [
    "result = await evaluator.aevaluate(\n",
    "    response=response.response,\n",
    "    reference=reference,\n",
    ")\n",
    "print(\"Score: \", result.score)\n",
    "print(\"Passing: \", result.passing)  # default similarity threshold is 0.8"
   ]
  }
 ],
 "metadata": {
  "kernelspec": {
   "display_name": "Python 3",
   "language": "python",
   "name": "python3"
  },
  "language_info": {
   "codemirror_mode": {
    "name": "ipython",
    "version": 3
   },
   "file_extension": ".py",
   "mimetype": "text/x-python",
   "name": "python",
   "nbconvert_exporter": "python",
   "pygments_lexer": "ipython3",
   "version": "3.11.3"
  },
  "orig_nbformat": 4
 },
 "nbformat": 4,
 "nbformat_minor": 2
}
